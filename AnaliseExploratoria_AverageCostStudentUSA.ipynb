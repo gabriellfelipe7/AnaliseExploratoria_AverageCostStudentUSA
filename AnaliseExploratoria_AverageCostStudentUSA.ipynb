{
  "nbformat": 4,
  "nbformat_minor": 0,
  "metadata": {
    "colab": {
      "provenance": [],
      "authorship_tag": "ABX9TyOlwbZD2HCYQ1S6xsEmaB4U",
      "include_colab_link": true
    },
    "kernelspec": {
      "name": "python3",
      "display_name": "Python 3"
    },
    "language_info": {
      "name": "python"
    }
  },
  "cells": [
    {
      "cell_type": "markdown",
      "metadata": {
        "id": "view-in-github",
        "colab_type": "text"
      },
      "source": [
        "<a href=\"https://colab.research.google.com/github/gabriellfelipe7/AnaliseExploratoria_AverageCostStudentUSA/blob/main/AnaliseExploratoria_AverageCostStudentUSA.ipynb\" target=\"_parent\"><img src=\"https://colab.research.google.com/assets/colab-badge.svg\" alt=\"Open In Colab\"/></a>"
      ]
    },
    {
      "cell_type": "markdown",
      "source": [
        "# **Average cost of undergraduate student by state USA**\n",
        "- Gabriel Felipe Machado de Oliveira\n",
        "- Março de 2023"
      ],
      "metadata": {
        "id": "Ou-gST8XIhZd"
      }
    },
    {
      "cell_type": "code",
      "execution_count": null,
      "metadata": {
        "id": "j9hK8pb8H-xo"
      },
      "outputs": [],
      "source": []
    }
  ]
}